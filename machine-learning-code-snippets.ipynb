{
 "cells": [
  {
   "cell_type": "markdown",
   "metadata": {},
   "source": [
    "# Machine Learning Code Snippets\n",
    "\n",
    "### The idea of this notebook is to put together in one place a set of useful small code snippets for model comparison. \n",
    "\n",
    "This notebook is a **work in progress** which will be updated weekly."
   ]
  },
  {
   "cell_type": "markdown",
   "metadata": {},
   "source": [
    "## Loading the digits dataset"
   ]
  },
  {
   "cell_type": "code",
   "execution_count": 2,
   "metadata": {},
   "outputs": [
    {
     "name": "stdout",
     "output_type": "stream",
     "text": [
      "[[ 0.  0.  5. ...  0.  0.  0.]\n",
      " [ 0.  0.  0. ... 10.  0.  0.]\n",
      " [ 0.  0.  0. ... 16.  9.  0.]\n",
      " ...\n",
      " [ 0.  0.  1. ...  6.  0.  0.]\n",
      " [ 0.  0.  2. ... 12.  0.  0.]\n",
      " [ 0.  0. 10. ... 12.  1.  0.]]\n",
      "[0 1 2 ... 8 9 8]\n"
     ]
    }
   ],
   "source": [
    "import pandas as pd\n",
    "pd.set_option('display.max_columns', None)\n",
    "pd.set_option('display.max_rows', None)\n",
    "from sklearn.datasets import load_digits\n",
    "digits = load_digits()\n",
    "X,y = digits.data, digits.target\n",
    "print(X)\n",
    "print(y)"
   ]
  },
  {
   "cell_type": "markdown",
   "metadata": {},
   "source": [
    "\n",
    "## Comparing Models\n",
    "\n",
    "### We can write a `for` loop that does the following:\n",
    "- Iterates over a list of models, namely, ` GaussianNB`, `KNeighborsClassifier` and `LinearSVC`\n",
    "- Trains each model using the training dataset `X_train` and `y_train`\n",
    "- Predicts the target using the test features `X_test`\n",
    "- Calculates the `f1_score`\n",
    "\n",
    "$${F_1} = 2\\frac{{{\\rm{precision}} \\times {\\rm{recall}}}}{{{\\rm{precision}} + {\\rm{recall}}}}$$\n",
    "\n",
    "- Note that the hyperparameters used for the three estimators are the default values"
   ]
  },
  {
   "cell_type": "code",
   "execution_count": 28,
   "metadata": {},
   "outputs": [
    {
     "name": "stdout",
     "output_type": "stream",
     "text": [
      "LogisticRegression: 0.9539995483362096\n",
      "GaussianNB: 0.8332741681010101\n",
      "KNeighborsClassifier: 0.9804562804949924\n",
      "LinearSVC: 0.9348840920604145\n"
     ]
    }
   ],
   "source": [
    "from sklearn import model_selection\n",
    "from sklearn import metrics\n",
    "from sklearn.linear_model import LogisticRegression\n",
    "from sklearn.model_selection import train_test_split\n",
    "from sklearn.naive_bayes import GaussianNB\n",
    "from sklearn.neighbors import KNeighborsClassifier\n",
    "from sklearn.svm import LinearSVC\n",
    "\n",
    "X = digits.data\n",
    "y = digits.target\n",
    "X_train, X_test, y_train, y_test = model_selection.train_test_split(X, y,\n",
    "                            test_size=0.25, random_state=0)\n",
    "\n",
    "models = [LogisticRegression, GaussianNB, KNeighborsClassifier, LinearSVC]\n",
    "\n",
    "for model in models:\n",
    "    clf = model().fit(X_train, y_train)\n",
    "    y_pred = clf.predict(X_test)\n",
    "    print('%s: %s' % (model.__name__, metrics.f1_score(y_test, y_pred, average=\"macro\")))  "
   ]
  },
  {
   "cell_type": "markdown",
   "metadata": {},
   "source": [
    "\n",
    "### Comparison using cross-validation"
   ]
  },
  {
   "cell_type": "code",
   "execution_count": 46,
   "metadata": {},
   "outputs": [
    {
     "name": "stdout",
     "output_type": "stream",
     "text": [
      "LogisticRegression: [0.92307692 0.88121547 0.94986072 0.95798319 0.89295775]\n",
      "LogisticRegression 0.9210188113360701\n",
      "GaussianNB: [0.78296703 0.78176796 0.79387187 0.86554622 0.8084507 ]\n",
      "GaussianNB 0.8065207555552298\n",
      "KNeighborsClassifier: [0.9478022  0.9558011  0.96657382 0.98039216 0.96338028]\n",
      "KNeighborsClassifier 0.9627899114966898\n",
      "LinearSVC: [0.91208791 0.87845304 0.93036212 0.95238095 0.87887324]\n",
      "LinearSVC 0.910431451914232\n"
     ]
    },
    {
     "data": {
      "text/html": [
       "<div>\n",
       "<style scoped>\n",
       "    .dataframe tbody tr th:only-of-type {\n",
       "        vertical-align: middle;\n",
       "    }\n",
       "\n",
       "    .dataframe tbody tr th {\n",
       "        vertical-align: top;\n",
       "    }\n",
       "\n",
       "    .dataframe thead th {\n",
       "        text-align: right;\n",
       "    }\n",
       "</style>\n",
       "<table border=\"1\" class=\"dataframe\">\n",
       "  <thead>\n",
       "    <tr style=\"text-align: right;\">\n",
       "      <th></th>\n",
       "      <th>Model</th>\n",
       "      <th>Average Cross-Validation</th>\n",
       "    </tr>\n",
       "  </thead>\n",
       "  <tbody>\n",
       "    <tr>\n",
       "      <th>0</th>\n",
       "      <td>LogisticRegression</td>\n",
       "      <td>0.921019</td>\n",
       "    </tr>\n",
       "    <tr>\n",
       "      <th>1</th>\n",
       "      <td>GaussianNB</td>\n",
       "      <td>0.806521</td>\n",
       "    </tr>\n",
       "    <tr>\n",
       "      <th>2</th>\n",
       "      <td>KNeighborsClassifier</td>\n",
       "      <td>0.962790</td>\n",
       "    </tr>\n",
       "    <tr>\n",
       "      <th>3</th>\n",
       "      <td>LinearSVC</td>\n",
       "      <td>0.910431</td>\n",
       "    </tr>\n",
       "  </tbody>\n",
       "</table>\n",
       "</div>"
      ],
      "text/plain": [
       "                  Model  Average Cross-Validation\n",
       "0    LogisticRegression                  0.921019\n",
       "1            GaussianNB                  0.806521\n",
       "2  KNeighborsClassifier                  0.962790\n",
       "3             LinearSVC                  0.910431"
      ]
     },
     "execution_count": 46,
     "metadata": {},
     "output_type": "execute_result"
    }
   ],
   "source": [
    "from sklearn.model_selection import cross_val_score\n",
    "\n",
    "lst_av_cross_val_scores = []\n",
    "\n",
    "for model in models:\n",
    "    clf = model()\n",
    "    cross_val_scores = (model.__name__, cross_val_score(clf, X, y, cv=5))\n",
    "    av_cross_val_scores = list(cross_val_scores)[1].mean()\n",
    "    lst_av_cross_val_scores.append(av_cross_val_scores)\n",
    "    print('%s: %s' % cross_val_scores) \n",
    "    print(model.__name__,av_cross_val_scores)\n",
    "\n",
    "    \n",
    "model_names = [model.__name__ for model in models]\n",
    "\n",
    "df = pd.DataFrame(list(zip(model_names, lst_av_cross_val_scores)))\n",
    "df.columns = ['Model','Average Cross-Validation']\n",
    "\n",
    "df"
   ]
  },
  {
   "cell_type": "code",
   "execution_count": 49,
   "metadata": {},
   "outputs": [
    {
     "data": {
      "text/html": [
       "<div>\n",
       "<style scoped>\n",
       "    .dataframe tbody tr th:only-of-type {\n",
       "        vertical-align: middle;\n",
       "    }\n",
       "\n",
       "    .dataframe tbody tr th {\n",
       "        vertical-align: top;\n",
       "    }\n",
       "\n",
       "    .dataframe thead th {\n",
       "        text-align: right;\n",
       "    }\n",
       "</style>\n",
       "<table border=\"1\" class=\"dataframe\">\n",
       "  <thead>\n",
       "    <tr style=\"text-align: right;\">\n",
       "      <th></th>\n",
       "      <th>Average Cross-Validation</th>\n",
       "    </tr>\n",
       "    <tr>\n",
       "      <th>Model</th>\n",
       "      <th></th>\n",
       "    </tr>\n",
       "  </thead>\n",
       "  <tbody>\n",
       "    <tr>\n",
       "      <th>LogisticRegression</th>\n",
       "      <td>0.921019</td>\n",
       "    </tr>\n",
       "    <tr>\n",
       "      <th>GaussianNB</th>\n",
       "      <td>0.806521</td>\n",
       "    </tr>\n",
       "    <tr>\n",
       "      <th>KNeighborsClassifier</th>\n",
       "      <td>0.962790</td>\n",
       "    </tr>\n",
       "    <tr>\n",
       "      <th>LinearSVC</th>\n",
       "      <td>0.910431</td>\n",
       "    </tr>\n",
       "  </tbody>\n",
       "</table>\n",
       "</div>"
      ],
      "text/plain": [
       "                      Average Cross-Validation\n",
       "Model                                         \n",
       "LogisticRegression                    0.921019\n",
       "GaussianNB                            0.806521\n",
       "KNeighborsClassifier                  0.962790\n",
       "LinearSVC                             0.910431"
      ]
     },
     "execution_count": 49,
     "metadata": {},
     "output_type": "execute_result"
    }
   ],
   "source": [
    "df.set_index('Model', inplace=True)\n",
    "df.head()"
   ]
  },
  {
   "cell_type": "code",
   "execution_count": 51,
   "metadata": {},
   "outputs": [
    {
     "data": {
      "image/png": "[encoded data removed]",
      "text/plain": [
       "<matplotlib.figure.Figure at 0x1135b5a20>"
      ]
     },
     "metadata": {},
     "output_type": "display_data"
    }
   ],
   "source": [
    "from matplotlib import pyplot\n",
    "import matplotlib.pyplot as plt\n",
    "%matplotlib inline\n",
    "ax = df.plot(kind='bar', title =\"Model Performance via Cross-Validation\", figsize=(10, 5), fontsize=12)\n",
    "ax.set_xlabel(\"Model\", fontsize=12)\n",
    "ax.set_ylabel(\"Cross-Validation Score\", fontsize=12)\n",
    "plt.show();"
   ]
  },
  {
   "cell_type": "code",
   "execution_count": null,
   "metadata": {},
   "outputs": [],
   "source": []
  }
 ],
 "metadata": {
  "kernelspec": {
   "display_name": "Python [conda env:anaconda3]",
   "language": "python",
   "name": "conda-env-anaconda3-py"
  },
  "language_info": {
   "codemirror_mode": {
    "name": "ipython",
    "version": 3
   },
   "file_extension": ".py",
   "mimetype": "text/x-python",
   "name": "python",
   "nbconvert_exporter": "python",
   "pygments_lexer": "ipython3",
   "version": "3.6.4"
  }
 },
 "nbformat": 4,
 "nbformat_minor": 2
}
